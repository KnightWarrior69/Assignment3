{
 "cells": [
  {
   "cell_type": "markdown",
   "id": "45860a6e-4a85-4609-82f2-f23afcfc28cc",
   "metadata": {},
   "source": [
    "1. Write a Python program to print the numbers from 1 to 10 using a `for` loop."
   ]
  },
  {
   "cell_type": "code",
   "execution_count": 5,
   "id": "16988768-7806-4eca-a357-1f170b84741f",
   "metadata": {},
   "outputs": [],
   "source": [
    "def numfun(n):\n",
    "    for x in range(1,n+1):\n",
    "        print(x, end=' ')"
   ]
  },
  {
   "cell_type": "code",
   "execution_count": 6,
   "id": "d60829dc-e6a9-42cd-8c53-09e0478a6d40",
   "metadata": {},
   "outputs": [
    {
     "name": "stdout",
     "output_type": "stream",
     "text": [
      "1 2 3 4 5 6 7 8 9 10 "
     ]
    }
   ],
   "source": [
    "numfun(10)"
   ]
  },
  {
   "cell_type": "markdown",
   "id": "fed106b7-751b-48b2-bbfb-1be16b4ef853",
   "metadata": {},
   "source": [
    "2. Create a program that calculates the sum of all numbers in a list using a `for` loop."
   ]
  },
  {
   "cell_type": "code",
   "execution_count": 7,
   "id": "def25f73-f325-4275-9a02-74c60da19e6e",
   "metadata": {},
   "outputs": [],
   "source": [
    "def list_sum_func(l):\n",
    "    s=0\n",
    "    for x in l:\n",
    "        s=s+x\n",
    "    return s"
   ]
  },
  {
   "cell_type": "code",
   "execution_count": 9,
   "id": "48663a61-d025-4ee6-bd1e-0c8ad43d77c3",
   "metadata": {},
   "outputs": [
    {
     "data": {
      "text/plain": [
       "28"
      ]
     },
     "execution_count": 9,
     "metadata": {},
     "output_type": "execute_result"
    }
   ],
   "source": [
    "list_sum_func([1,2,3,4,5,6,7])"
   ]
  },
  {
   "cell_type": "markdown",
   "id": "1121828b-12cc-46b4-bd93-5d592bdcd340",
   "metadata": {},
   "source": [
    "3. Write a program to print the characters of a string in reverse order using a `for` loop."
   ]
  },
  {
   "cell_type": "code",
   "execution_count": 19,
   "id": "49158d12-5fe1-411c-9f90-c53a8aa7be88",
   "metadata": {},
   "outputs": [],
   "source": [
    "def rev_func(s):\n",
    "    for x in s[::-1]:\n",
    "        print(x, end='')\n",
    "        "
   ]
  },
  {
   "cell_type": "code",
   "execution_count": 20,
   "id": "920710c5-6e11-4dbc-a8ef-c0037e743353",
   "metadata": {},
   "outputs": [
    {
     "name": "stdout",
     "output_type": "stream",
     "text": [
      "dlroW olleH"
     ]
    }
   ],
   "source": [
    "rev_func('Hello World')"
   ]
  },
  {
   "cell_type": "markdown",
   "id": "c8b9b6aa-7684-4c08-96cf-5c2fe44eda53",
   "metadata": {},
   "source": [
    "4. Develop a program that finds the factorial of a given number using a `for` loop."
   ]
  },
  {
   "cell_type": "code",
   "execution_count": 24,
   "id": "b2c6f42f-a449-4923-97bb-4efb5d5c9333",
   "metadata": {},
   "outputs": [],
   "source": [
    "def fact(n):\n",
    "    if n==0:\n",
    "        return 1\n",
    "    y=1\n",
    "    for x in range(1,n+1):\n",
    "        temp = x*y\n",
    "        y=temp\n",
    "    return temp"
   ]
  },
  {
   "cell_type": "code",
   "execution_count": 26,
   "id": "3cc5002d-6b22-4771-871e-f17bea2accdf",
   "metadata": {},
   "outputs": [
    {
     "data": {
      "text/plain": [
       "720"
      ]
     },
     "execution_count": 26,
     "metadata": {},
     "output_type": "execute_result"
    }
   ],
   "source": [
    "fact(6)"
   ]
  },
  {
   "cell_type": "markdown",
   "id": "36675919-a8e0-4ed0-9036-598a1b3add99",
   "metadata": {},
   "source": [
    "5. Create a program to print the multiplication table of a given number using a `for` loop."
   ]
  },
  {
   "cell_type": "code",
   "execution_count": 27,
   "id": "b3c7e603-57fb-4fa5-b6f2-3c2685261b12",
   "metadata": {},
   "outputs": [],
   "source": [
    "def mult_func(n):\n",
    "    for x in range(1,11):\n",
    "        print(n,'*',x,'=',n*x)"
   ]
  },
  {
   "cell_type": "code",
   "execution_count": 28,
   "id": "04102629-8483-4c1e-ae08-f8675eb69629",
   "metadata": {},
   "outputs": [
    {
     "name": "stdout",
     "output_type": "stream",
     "text": [
      "19 * 1 = 19\n",
      "19 * 2 = 38\n",
      "19 * 3 = 57\n",
      "19 * 4 = 76\n",
      "19 * 5 = 95\n",
      "19 * 6 = 114\n",
      "19 * 7 = 133\n",
      "19 * 8 = 152\n",
      "19 * 9 = 171\n",
      "19 * 10 = 190\n"
     ]
    }
   ],
   "source": [
    "mult_func(19)"
   ]
  },
  {
   "cell_type": "markdown",
   "id": "a18938c3-7b12-463c-b825-91e10514f691",
   "metadata": {},
   "source": [
    "6. Write a program that counts the number of even and odd numbers in a list using a `for` loop."
   ]
  },
  {
   "cell_type": "code",
   "execution_count": 29,
   "id": "1de54d9c-ae95-4237-9ec0-0c2efad8fa12",
   "metadata": {},
   "outputs": [],
   "source": [
    "def count_func(l):\n",
    "    even=0\n",
    "    odd=0\n",
    "    for x in l:\n",
    "        if x%2==0:\n",
    "            even= even+1\n",
    "        else:\n",
    "            odd=odd+1\n",
    "    print('Total even num in the list are ',even)\n",
    "    print('Total odd num in the list are ',odd)"
   ]
  },
  {
   "cell_type": "code",
   "execution_count": 31,
   "id": "72951125-b507-4d4e-b9aa-eee8423842de",
   "metadata": {},
   "outputs": [
    {
     "name": "stdout",
     "output_type": "stream",
     "text": [
      "Total even num in the list are  5\n",
      "Total odd num in the list are  4\n"
     ]
    }
   ],
   "source": [
    "count_func([1,2,3,4,4,5,1,2,2])"
   ]
  },
  {
   "cell_type": "markdown",
   "id": "6fb04925-c031-414b-a3d0-3225984c1cf2",
   "metadata": {},
   "source": [
    "7. Develop a program that prints the squares of numbers from 1 to 5 using a `for` loop."
   ]
  },
  {
   "cell_type": "code",
   "execution_count": 32,
   "id": "81ca6708-723e-4076-9d0c-f9bf2a56fab4",
   "metadata": {},
   "outputs": [],
   "source": [
    "def sq_func(n):\n",
    "    for x in range(1,n+1):\n",
    "        print(x**2)"
   ]
  },
  {
   "cell_type": "code",
   "execution_count": 33,
   "id": "f5c1409d-5872-4e03-a3b9-3dab3bd07378",
   "metadata": {},
   "outputs": [
    {
     "name": "stdout",
     "output_type": "stream",
     "text": [
      "1\n",
      "4\n",
      "9\n",
      "16\n",
      "25\n"
     ]
    }
   ],
   "source": [
    "sq_func(5)"
   ]
  },
  {
   "cell_type": "markdown",
   "id": "f9b50dc7-a6f7-4b6f-9c17-e7364ad350f4",
   "metadata": {},
   "source": [
    "8. Create a program to find the length of a string without using the `len()` function."
   ]
  },
  {
   "cell_type": "code",
   "execution_count": 42,
   "id": "21d51b4b-7395-49b2-aedc-5e3c17522f02",
   "metadata": {},
   "outputs": [],
   "source": [
    "def lenfunc(s):\n",
    "    count=0\n",
    "    for x in s:\n",
    "        count+=1\n",
    "    return 'The len of the string is',count"
   ]
  },
  {
   "cell_type": "code",
   "execution_count": 43,
   "id": "2c3321c9-9592-47f5-861b-8a5c1df19411",
   "metadata": {},
   "outputs": [
    {
     "data": {
      "text/plain": [
       "('The len of the string is', 11)"
      ]
     },
     "execution_count": 43,
     "metadata": {},
     "output_type": "execute_result"
    }
   ],
   "source": [
    "lenfunc('Hello World')"
   ]
  },
  {
   "cell_type": "markdown",
   "id": "d6300277-63d8-4889-8403-670b63c08a2f",
   "metadata": {},
   "source": [
    "9. Write a program that calculates the average of a list of numbers using a `for` loop."
   ]
  },
  {
   "cell_type": "code",
   "execution_count": 44,
   "id": "dd022d88-fc9d-4ece-9f81-6e49b8d2eaa1",
   "metadata": {},
   "outputs": [],
   "source": [
    "def avgfun(l):\n",
    "    y=len(l)\n",
    "    t=0\n",
    "    for x in l:\n",
    "        t=t+x\n",
    "    return t/y"
   ]
  },
  {
   "cell_type": "code",
   "execution_count": 45,
   "id": "a22c591b-d37c-4239-b437-7e028f3209c2",
   "metadata": {},
   "outputs": [
    {
     "data": {
      "text/plain": [
       "2.6"
      ]
     },
     "execution_count": 45,
     "metadata": {},
     "output_type": "execute_result"
    }
   ],
   "source": [
    "avgfun([1,2,3,3,4])"
   ]
  },
  {
   "cell_type": "markdown",
   "id": "4574905c-52e8-4552-ab2a-6b8470136e83",
   "metadata": {},
   "source": [
    "10. Develop a program that prints the first `n` Fibonacci numbers using a `for` loop."
   ]
  },
  {
   "cell_type": "code",
   "execution_count": 15,
   "id": "b3ad2109-af2c-4cab-8bac-d8173564dc81",
   "metadata": {},
   "outputs": [],
   "source": [
    "def fibofunc(n):\n",
    "    y=1\n",
    "    x=0\n",
    "    temp=0\n",
    "    print(x)\n",
    "    print(y)\n",
    "    for a in range(n):\n",
    "        temp = x+y\n",
    "        \n",
    "        x=y\n",
    "        y=temp\n",
    "        print(temp)"
   ]
  },
  {
   "cell_type": "code",
   "execution_count": 16,
   "id": "92717bf3-b146-446e-9ec3-79ae53ff9b3b",
   "metadata": {},
   "outputs": [
    {
     "name": "stdout",
     "output_type": "stream",
     "text": [
      "0\n",
      "1\n",
      "1\n",
      "2\n",
      "3\n",
      "5\n",
      "8\n"
     ]
    }
   ],
   "source": [
    "fibofunc(5)"
   ]
  },
  {
   "cell_type": "markdown",
   "id": "8d18b5a9-b874-4256-888a-1a2ff0690378",
   "metadata": {},
   "source": [
    "11. Write a program to check if a given list contains any duplicates using a `for` loop."
   ]
  },
  {
   "cell_type": "code",
   "execution_count": 27,
   "id": "9830b6d9-4d71-4872-ac0e-2ab8ba5bd37c",
   "metadata": {},
   "outputs": [],
   "source": [
    "def check_dup_list(l):\n",
    "    l1=[]\n",
    "    for x in l:\n",
    "        y = l.count(x)\n",
    "        if y>1:\n",
    "            l1.append(x)\n",
    "    if len(l1)>0:\n",
    "        print('the list has duplicate values')\n",
    "    else:\n",
    "        print('List has no duplicates')"
   ]
  },
  {
   "cell_type": "code",
   "execution_count": 28,
   "id": "c60dee17-9693-4544-b178-339f9a65c991",
   "metadata": {},
   "outputs": [
    {
     "name": "stdout",
     "output_type": "stream",
     "text": [
      "the list has duplicate values\n"
     ]
    }
   ],
   "source": [
    "check_dup_list([1,2,3,1,2,4])"
   ]
  },
  {
   "cell_type": "markdown",
   "id": "3038c461-5977-4a5a-bf9f-6a2b33c94289",
   "metadata": {},
   "source": [
    "12. Create a program that prints the prime numbers in a given range using a `for` loop."
   ]
  },
  {
   "cell_type": "code",
   "execution_count": 31,
   "id": "fee5ce6d-b682-466f-a7e6-0e36a0712585",
   "metadata": {},
   "outputs": [],
   "source": [
    "def prime_func(x,y):\n",
    "    l1=[]\n",
    "    for a in range(x,y+1):\n",
    "        count=0\n",
    "        for b in range(1, a+1):\n",
    "            if a%b==0:\n",
    "                count+=1\n",
    "        if count == 2:\n",
    "            l1.append(a)\n",
    "    print(l1)"
   ]
  },
  {
   "cell_type": "code",
   "execution_count": 33,
   "id": "631d48f3-318b-4287-a12f-670789cf9b2c",
   "metadata": {},
   "outputs": [
    {
     "name": "stdout",
     "output_type": "stream",
     "text": [
      "[5, 7, 11, 13, 17, 19, 23, 29, 31, 37, 41, 43, 47, 53, 59, 61, 67, 71]\n"
     ]
    }
   ],
   "source": [
    "prime_func(5,72)"
   ]
  },
  {
   "cell_type": "markdown",
   "id": "c55ed581-eeb3-481c-a002-a4236d478898",
   "metadata": {},
   "source": [
    "13. Develop a program that counts the number of vowels in a string using a `for` loop."
   ]
  },
  {
   "cell_type": "code",
   "execution_count": 3,
   "id": "59a4cbff-0859-4bff-8e6b-fb0bd75a93a7",
   "metadata": {},
   "outputs": [],
   "source": [
    "def count_vowels(s):\n",
    "    l = ['a','e','i','o','u']\n",
    "    d={}\n",
    "    for x in s:\n",
    "        if x.lower() in l:\n",
    "            y = s.lower().count(x.lower())\n",
    "            d[x]=y\n",
    "    print(d)"
   ]
  },
  {
   "cell_type": "code",
   "execution_count": 5,
   "id": "322207bd-cf0b-4d7f-8dc2-c93d06423e90",
   "metadata": {},
   "outputs": [
    {
     "name": "stdout",
     "output_type": "stream",
     "text": [
      "{'a': 2, 'u': 2, 'i': 1, 'o': 4, 'e': 2}\n"
     ]
    }
   ],
   "source": [
    "count_vowels('a quick brown fox jumps over the lazy dog')"
   ]
  },
  {
   "cell_type": "markdown",
   "id": "85b1f7a2-d6ac-42d6-b7cf-987be4b0c26e",
   "metadata": {},
   "source": [
    "14. Write a program to find the maximum element in a 2D list using a nested `for` loop."
   ]
  },
  {
   "cell_type": "code",
   "execution_count": 6,
   "id": "79dfe813-d2c2-42e7-86f7-06a1d7f5a8a4",
   "metadata": {},
   "outputs": [],
   "source": [
    "l=[[1,2],[3,4],[4,5],[5,6]]\n",
    "def maxfunc(l):\n",
    "    l1=[]\n",
    "    for a,b in l:\n",
    "        l1.append(a)\n",
    "        l1.append(b)\n",
    "    return max(l1)"
   ]
  },
  {
   "cell_type": "code",
   "execution_count": 7,
   "id": "b13eef63-e1d9-463b-ae25-d4e45841531d",
   "metadata": {},
   "outputs": [
    {
     "data": {
      "text/plain": [
       "6"
      ]
     },
     "execution_count": 7,
     "metadata": {},
     "output_type": "execute_result"
    }
   ],
   "source": [
    "maxfunc(l)"
   ]
  },
  {
   "cell_type": "markdown",
   "id": "b254bc00-58fd-4a4d-8ee4-62b2aa333e6a",
   "metadata": {},
   "source": [
    "15. Create a program that removes all occurrences of a specific element from a list using a `for` loop."
   ]
  },
  {
   "cell_type": "code",
   "execution_count": 9,
   "id": "edd7f62e-0482-4e76-9e90-9fadb0163d59",
   "metadata": {},
   "outputs": [],
   "source": [
    "l1=[1,2,3,3,4,4,5]"
   ]
  },
  {
   "cell_type": "code",
   "execution_count": 15,
   "id": "2c788fb3-4a27-4d12-82cb-64698cb44c5f",
   "metadata": {},
   "outputs": [],
   "source": [
    "def remove_element(l,y):\n",
    "    for r in l:\n",
    "        if y in l:\n",
    "            l.remove(y)\n",
    "    return l"
   ]
  },
  {
   "cell_type": "code",
   "execution_count": 17,
   "id": "842bac99-10a1-4126-be43-1ebb1b861426",
   "metadata": {},
   "outputs": [
    {
     "data": {
      "text/plain": [
       "[1, 2, 3, 5, 6]"
      ]
     },
     "execution_count": 17,
     "metadata": {},
     "output_type": "execute_result"
    }
   ],
   "source": [
    "remove_element([1,2,3,4,4,4,4,5,6],4)"
   ]
  },
  {
   "cell_type": "markdown",
   "id": "f9f85826-a163-4422-860b-6f11b48ef445",
   "metadata": {},
   "source": [
    "16. Develop a program that generates a multiplication table for numbers from 1 to 5 using a nested `for` loop."
   ]
  },
  {
   "cell_type": "code",
   "execution_count": 23,
   "id": "43a72c0f-941c-405d-a06f-15ff0deb4195",
   "metadata": {},
   "outputs": [],
   "source": [
    "def mult_table(x):\n",
    "    for y in range(1,x+1):\n",
    "        for z in range(1,11):\n",
    "            print(y,'*',z,'=',y*z)"
   ]
  },
  {
   "cell_type": "code",
   "execution_count": 25,
   "id": "0f57e7b0-58c6-4d6a-bab2-759083f0dd34",
   "metadata": {},
   "outputs": [
    {
     "name": "stdout",
     "output_type": "stream",
     "text": [
      "1 * 1 = 1\n",
      "1 * 2 = 2\n",
      "1 * 3 = 3\n",
      "1 * 4 = 4\n",
      "1 * 5 = 5\n",
      "1 * 6 = 6\n",
      "1 * 7 = 7\n",
      "1 * 8 = 8\n",
      "1 * 9 = 9\n",
      "1 * 10 = 10\n",
      "2 * 1 = 2\n",
      "2 * 2 = 4\n",
      "2 * 3 = 6\n",
      "2 * 4 = 8\n",
      "2 * 5 = 10\n",
      "2 * 6 = 12\n",
      "2 * 7 = 14\n",
      "2 * 8 = 16\n",
      "2 * 9 = 18\n",
      "2 * 10 = 20\n",
      "3 * 1 = 3\n",
      "3 * 2 = 6\n",
      "3 * 3 = 9\n",
      "3 * 4 = 12\n",
      "3 * 5 = 15\n",
      "3 * 6 = 18\n",
      "3 * 7 = 21\n",
      "3 * 8 = 24\n",
      "3 * 9 = 27\n",
      "3 * 10 = 30\n",
      "4 * 1 = 4\n",
      "4 * 2 = 8\n",
      "4 * 3 = 12\n",
      "4 * 4 = 16\n",
      "4 * 5 = 20\n",
      "4 * 6 = 24\n",
      "4 * 7 = 28\n",
      "4 * 8 = 32\n",
      "4 * 9 = 36\n",
      "4 * 10 = 40\n",
      "5 * 1 = 5\n",
      "5 * 2 = 10\n",
      "5 * 3 = 15\n",
      "5 * 4 = 20\n",
      "5 * 5 = 25\n",
      "5 * 6 = 30\n",
      "5 * 7 = 35\n",
      "5 * 8 = 40\n",
      "5 * 9 = 45\n",
      "5 * 10 = 50\n"
     ]
    }
   ],
   "source": [
    "mult_table(5)"
   ]
  },
  {
   "cell_type": "markdown",
   "id": "2136be96-98a7-4bc1-ba1f-4d133769a55b",
   "metadata": {},
   "source": [
    "17. Write a program that converts a list of Fahrenheit temperatures to Celsius using a `for` loop."
   ]
  },
  {
   "cell_type": "code",
   "execution_count": 26,
   "id": "fc6c82aa-5d42-4a27-9ec4-6d9bca22df46",
   "metadata": {},
   "outputs": [],
   "source": [
    "def temp_converter(l):\n",
    "    l1=[]\n",
    "    for x in l:\n",
    "        l1.append((x-32)*5/9)\n",
    "    return l1"
   ]
  },
  {
   "cell_type": "code",
   "execution_count": 27,
   "id": "ce87edd2-fd18-4b4f-9ed5-f1beb0bca74a",
   "metadata": {},
   "outputs": [
    {
     "data": {
      "text/plain": [
       "[-6.666666666666667,\n",
       " -1.1111111111111112,\n",
       " 4.444444444444445,\n",
       " 36.666666666666664,\n",
       " 37.77777777777778]"
      ]
     },
     "execution_count": 27,
     "metadata": {},
     "output_type": "execute_result"
    }
   ],
   "source": [
    "temp_converter([20,30,40,98,100])\n"
   ]
  },
  {
   "cell_type": "markdown",
   "id": "2ad22613-5302-4cf1-88ec-255dfd06eb45",
   "metadata": {},
   "source": [
    "18. Create a program to print the common elements from two lists using a `for` loop."
   ]
  },
  {
   "cell_type": "code",
   "execution_count": 28,
   "id": "b54fefac-dea7-4203-9d8c-347fd5683b04",
   "metadata": {},
   "outputs": [],
   "source": [
    "def common(l1,l2):\n",
    "    for x in l1:\n",
    "        if x in l2:\n",
    "            print(x)"
   ]
  },
  {
   "cell_type": "code",
   "execution_count": 29,
   "id": "8ea8fe70-411a-4f4d-aaba-4fa6dc110642",
   "metadata": {},
   "outputs": [
    {
     "name": "stdout",
     "output_type": "stream",
     "text": [
      "2\n",
      "4\n"
     ]
    }
   ],
   "source": [
    "common([1,2,3,4],[2,4,6,7])"
   ]
  },
  {
   "cell_type": "markdown",
   "id": "0c34eb1b-c0d2-44c3-981e-5bda9e245680",
   "metadata": {},
   "source": [
    "19. Develop a program that prints the pattern of right-angled triangles using a `for` loop. Use ‘*’ to draw the\n",
    "pattern"
   ]
  },
  {
   "cell_type": "code",
   "execution_count": 43,
   "id": "d4684573-3bae-42d6-a021-180b7de3c280",
   "metadata": {},
   "outputs": [
    {
     "name": "stdout",
     "output_type": "stream",
     "text": [
      "*\n",
      "**\n",
      "***\n",
      "****\n",
      "*****\n",
      "******\n",
      "*******\n",
      "********\n"
     ]
    }
   ],
   "source": [
    "for x in range(1,9):\n",
    "    for y in range(1,x+1):\n",
    "        print(\"*\", end = '')\n",
    "    print()"
   ]
  },
  {
   "cell_type": "markdown",
   "id": "6f4c43ed-a2c2-4a99-95b8-95ad9a6ff9fd",
   "metadata": {},
   "source": [
    "20. Write a program to find the greatest common divisor (GCD) of two numbers using a `for` loop."
   ]
  },
  {
   "cell_type": "code",
   "execution_count": 54,
   "id": "484a1a2c-2e66-4ccb-9534-b8c8b30f5091",
   "metadata": {},
   "outputs": [],
   "source": [
    "def gcd(a,b):\n",
    "    l2=[]\n",
    "    for x in range(1,a+1):\n",
    "        if a%x==0 and b%x==0:\n",
    "            l2.append(x)\n",
    "    print('the GCD of a,b is ', max(l2))"
   ]
  },
  {
   "cell_type": "code",
   "execution_count": 56,
   "id": "ca9ab2d0-ec8d-43fc-ac7a-b1cc55b3713d",
   "metadata": {},
   "outputs": [
    {
     "name": "stdout",
     "output_type": "stream",
     "text": [
      "the GCD of a,b is  7\n"
     ]
    }
   ],
   "source": [
    "gcd(21,35)"
   ]
  },
  {
   "cell_type": "markdown",
   "id": "758f4c50-29ae-4769-b976-acbd27e1b2ea",
   "metadata": {},
   "source": [
    "21. Create a program that calculates the sum of the digits of numbers in a list using a list comprehension.\n"
   ]
  },
  {
   "cell_type": "code",
   "execution_count": 20,
   "id": "b3e096bd-448a-4d0a-bda5-49ad99568ec6",
   "metadata": {},
   "outputs": [],
   "source": [
    "#Soln 1\n",
    "def sum_digits(n):\n",
    "    x=0\n",
    "    while n>0:\n",
    "        x = x+n%10\n",
    "        n = n//10\n",
    "    return x\n",
    "        "
   ]
  },
  {
   "cell_type": "code",
   "execution_count": 21,
   "id": "0e0243ee-6964-498f-af2f-770514aef306",
   "metadata": {},
   "outputs": [
    {
     "data": {
      "text/plain": [
       "12"
      ]
     },
     "execution_count": 21,
     "metadata": {},
     "output_type": "execute_result"
    }
   ],
   "source": [
    "sum_digits(228)"
   ]
  },
  {
   "cell_type": "code",
   "execution_count": 22,
   "id": "d6fff639-436c-45b0-8784-3a04e1c697e9",
   "metadata": {},
   "outputs": [],
   "source": [
    "l = [ sum_digits(x) for x in [22,33,44,55,66,77,123,456]] "
   ]
  },
  {
   "cell_type": "code",
   "execution_count": 23,
   "id": "35899245-ce0c-4843-9729-2a183e4e22f3",
   "metadata": {},
   "outputs": [
    {
     "data": {
      "text/plain": [
       "[4, 6, 8, 10, 12, 14, 6, 15]"
      ]
     },
     "execution_count": 23,
     "metadata": {},
     "output_type": "execute_result"
    }
   ],
   "source": [
    "l"
   ]
  },
  {
   "cell_type": "code",
   "execution_count": 24,
   "id": "f2b9c4d8-2372-472a-b0e9-4baa515c3fc6",
   "metadata": {},
   "outputs": [],
   "source": [
    "#solution 2\n",
    "l = [sum(map(int, str(x))) for x in [234,456,213,123,6545,92384]]"
   ]
  },
  {
   "cell_type": "code",
   "execution_count": 25,
   "id": "123b29ba-893a-4674-9c6f-7bbabf2bf3f1",
   "metadata": {},
   "outputs": [
    {
     "data": {
      "text/plain": [
       "[9, 15, 6, 6, 20, 26]"
      ]
     },
     "execution_count": 25,
     "metadata": {},
     "output_type": "execute_result"
    }
   ],
   "source": [
    "l"
   ]
  },
  {
   "cell_type": "markdown",
   "id": "f8c24251-bb5a-48a8-a4e9-390cd819a1f4",
   "metadata": {},
   "source": [
    "22. Write a program to find the prime factors of a given number using a `for` loop and list comprehension"
   ]
  },
  {
   "cell_type": "code",
   "execution_count": 27,
   "id": "3a6772f6-7d9c-41ab-97a8-79cc50d4f50e",
   "metadata": {},
   "outputs": [],
   "source": [
    "n=24\n",
    "l1 = [x for x in range(1,n+1) i"
   ]
  },
  {
   "cell_type": "code",
   "execution_count": 28,
   "id": "8a24a02d-978d-49d3-9a0f-b74780de4642",
   "metadata": {},
   "outputs": [
    {
     "data": {
      "text/plain": [
       "[1, 2, 3, 4, 6, 8, 12, 24]"
      ]
     },
     "execution_count": 28,
     "metadata": {},
     "output_type": "execute_result"
    }
   ],
   "source": [
    "l1"
   ]
  },
  {
   "cell_type": "code",
   "execution_count": 36,
   "id": "20539223-dc6b-4a20-9cc8-65332d168c92",
   "metadata": {},
   "outputs": [],
   "source": [
    "def pf(n):\n",
    "    l2=[]\n",
    "    for x in range(1,n//2):\n",
    "        if n%x==0:\n",
    "            for y in range(2,x//2+1):\n",
    "                if x%y!=0:\n",
    "                    l2.append(x)\n",
    "    return(l2)\n",
    "    "
   ]
  },
  {
   "cell_type": "code",
   "execution_count": 38,
   "id": "40457013-3cc8-4c40-8db1-558952f7095b",
   "metadata": {},
   "outputs": [
    {
     "data": {
      "text/plain": [
       "[5, 10, 10, 20, 20, 20, 20, 20, 25, 25, 25, 25, 25, 25, 25, 25, 25, 25]"
      ]
     },
     "execution_count": 38,
     "metadata": {},
     "output_type": "execute_result"
    }
   ],
   "source": [
    "pf(100)"
   ]
  },
  {
   "cell_type": "code",
   "execution_count": null,
   "id": "16739019-504a-48b0-ae06-46fcd2dd57f3",
   "metadata": {},
   "outputs": [],
   "source": [
    "int("
   ]
  },
  {
   "cell_type": "markdown",
   "id": "0a63c4ef-d953-4688-9600-af1ecfce9dc3",
   "metadata": {},
   "source": [
    "23. Develop a program that extracts unique elements from a list and stores them in a new list using a list comprehension.\n"
   ]
  },
  {
   "cell_type": "code",
   "execution_count": 39,
   "id": "bd72c249-6fe1-410c-9fa4-9e354fe738e0",
   "metadata": {},
   "outputs": [],
   "source": [
    "x = [x for x in set([1,1,2,2,33,3,3,3,4,4,4,4,5,5,5,5])]"
   ]
  },
  {
   "cell_type": "code",
   "execution_count": 40,
   "id": "69ad5e73-bfe6-47ad-ad27-247f04e820c3",
   "metadata": {},
   "outputs": [
    {
     "data": {
      "text/plain": [
       "[1, 2, 3, 4, 33, 5]"
      ]
     },
     "execution_count": 40,
     "metadata": {},
     "output_type": "execute_result"
    }
   ],
   "source": [
    "x"
   ]
  },
  {
   "cell_type": "markdown",
   "id": "c47f1eb7-cb51-4c74-86c1-75025827caa8",
   "metadata": {},
   "source": [
    "24. Create a program that generates a list of all palindromic numbers up to a specified limit using a list comprehension.\n"
   ]
  },
  {
   "cell_type": "code",
   "execution_count": 47,
   "id": "66672e5d-6aed-4e95-b327-7ad76cf705b8",
   "metadata": {},
   "outputs": [],
   "source": [
    "y = [x for x in range(120,199) if ( str(x)==str(x)[::-1] )]"
   ]
  },
  {
   "cell_type": "code",
   "execution_count": 48,
   "id": "19dc5768-7681-4543-8a85-5a6ee067ca08",
   "metadata": {},
   "outputs": [
    {
     "data": {
      "text/plain": [
       "[121, 131, 141, 151, 161, 171, 181, 191]"
      ]
     },
     "execution_count": 48,
     "metadata": {},
     "output_type": "execute_result"
    }
   ],
   "source": [
    "y"
   ]
  },
  {
   "cell_type": "markdown",
   "id": "7b6233e8-5f31-44ec-b47d-95dd7a66a88a",
   "metadata": {},
   "source": [
    "25. Write a program to flatten a nested list using list comprehension.\n"
   ]
  },
  {
   "cell_type": "code",
   "execution_count": 28,
   "id": "8a6d370a-1c20-44fe-8a4a-e3ccdc07d42c",
   "metadata": {},
   "outputs": [],
   "source": [
    "l = [x for y in [[1,2],[2,3],[3,4],[4,5]] for x in y ]"
   ]
  },
  {
   "cell_type": "code",
   "execution_count": 29,
   "id": "ec8dbcb7-877d-4fc0-9336-7bd402b2102f",
   "metadata": {},
   "outputs": [
    {
     "data": {
      "text/plain": [
       "[1, 2, 2, 3, 3, 4, 4, 5]"
      ]
     },
     "execution_count": 29,
     "metadata": {},
     "output_type": "execute_result"
    }
   ],
   "source": [
    "l"
   ]
  },
  {
   "cell_type": "code",
   "execution_count": 23,
   "id": "73fa4a31-859f-4ecb-a06b-d3da1ae886a6",
   "metadata": {},
   "outputs": [
    {
     "name": "stdout",
     "output_type": "stream",
     "text": [
      "[1, 2, 2, 3, 3, 4, 4, 5]\n"
     ]
    }
   ],
   "source": [
    "l1=[]\n",
    "for x,y in [[1,2],[2,3],[3,4],[4,5]]:\n",
    "    l1.append(x)\n",
    "    l1.append(y)\n",
    "print(l1)"
   ]
  },
  {
   "cell_type": "markdown",
   "id": "dc5812e3-066b-4995-9c13-8ad19a94be0c",
   "metadata": {},
   "source": [
    "26. Develop a program that computes the sum of even and odd numbers in a list separately using list comprehension.\n"
   ]
  },
  {
   "cell_type": "code",
   "execution_count": 30,
   "id": "5dbad962-7324-47a4-9b2f-30e01a27b8f8",
   "metadata": {},
   "outputs": [
    {
     "data": {
      "text/plain": [
       "[1, 2, 2, 3, 3, 4, 4, 5]"
      ]
     },
     "execution_count": 30,
     "metadata": {},
     "output_type": "execute_result"
    }
   ],
   "source": [
    "l1"
   ]
  },
  {
   "cell_type": "code",
   "execution_count": 37,
   "id": "a0d44653-9a60-4f7a-acc5-b86a286b894d",
   "metadata": {},
   "outputs": [],
   "source": [
    "evensum = [sum([x for x in l1 if x%2==0])]"
   ]
  },
  {
   "cell_type": "code",
   "execution_count": 39,
   "id": "eb1e1349-7cfe-49b6-bbec-f6f976ff7409",
   "metadata": {},
   "outputs": [
    {
     "data": {
      "text/plain": [
       "[12]"
      ]
     },
     "execution_count": 39,
     "metadata": {},
     "output_type": "execute_result"
    }
   ],
   "source": [
    "evensum"
   ]
  },
  {
   "cell_type": "code",
   "execution_count": 40,
   "id": "a226beed-91fc-41e1-83ce-0f54f16e7edc",
   "metadata": {},
   "outputs": [],
   "source": [
    "oddsum = [sum([x for x in l1 if x%2!=0])]"
   ]
  },
  {
   "cell_type": "code",
   "execution_count": 41,
   "id": "f2a4ec1c-8796-4617-888b-fce106bcc70f",
   "metadata": {},
   "outputs": [
    {
     "data": {
      "text/plain": [
       "[12]"
      ]
     },
     "execution_count": 41,
     "metadata": {},
     "output_type": "execute_result"
    }
   ],
   "source": [
    "oddsum"
   ]
  },
  {
   "cell_type": "markdown",
   "id": "349e50ed-1f6a-450f-8990-edef7d702c89",
   "metadata": {},
   "source": [
    "28. Write a program that combines two lists into a dictionary using list comprehension.\n"
   ]
  },
  {
   "cell_type": "code",
   "execution_count": 42,
   "id": "edc9a899-277b-45e7-8407-259d822d5725",
   "metadata": {},
   "outputs": [],
   "source": [
    "l1 = [1,2,3,4]\n",
    "l2 = ['sud','hello','wowo','jind']\n"
   ]
  },
  {
   "cell_type": "code",
   "execution_count": 60,
   "id": "08f4ee23-9a12-494f-8925-beca25b57a73",
   "metadata": {},
   "outputs": [],
   "source": [
    "d=dict({1:2})"
   ]
  },
  {
   "cell_type": "code",
   "execution_count": 70,
   "id": "8dc729d9-5347-4d74-b835-d4fa1fcfba97",
   "metadata": {},
   "outputs": [],
   "source": [
    "d1 = {x:y for x,y in zip(l1,l2)}"
   ]
  },
  {
   "cell_type": "code",
   "execution_count": 71,
   "id": "14d5a411-c9c1-4517-9741-865090bd90a9",
   "metadata": {},
   "outputs": [
    {
     "data": {
      "text/plain": [
       "{1: 'sud', 2: 'hello', 3: 'wowo', 4: 'jind'}"
      ]
     },
     "execution_count": 71,
     "metadata": {},
     "output_type": "execute_result"
    }
   ],
   "source": [
    "d1"
   ]
  },
  {
   "cell_type": "markdown",
   "id": "767da6fb-b5d6-4964-be2f-418f304ddbda",
   "metadata": {},
   "source": [
    "29. Develop a program that extracts the vowels from a string and stores them in a list using list comprehension.\n"
   ]
  },
  {
   "cell_type": "code",
   "execution_count": 73,
   "id": "7bf422d3-b35c-42cb-96b5-4c08f175b526",
   "metadata": {},
   "outputs": [],
   "source": [
    "s= ' a quick brown fox'\n",
    "l3 = [x for x in s if x.lower() in ['a','e','i','o','u']]"
   ]
  },
  {
   "cell_type": "code",
   "execution_count": 74,
   "id": "42cf040e-c6b7-4e38-a56e-d44e7bc0a1e4",
   "metadata": {},
   "outputs": [
    {
     "data": {
      "text/plain": [
       "['a', 'u', 'i', 'o', 'o']"
      ]
     },
     "execution_count": 74,
     "metadata": {},
     "output_type": "execute_result"
    }
   ],
   "source": [
    "l3"
   ]
  },
  {
   "cell_type": "markdown",
   "id": "1b04f788-acdc-4e7b-9bd5-06ff3aa6d631",
   "metadata": {},
   "source": [
    "30. Create a program that removes all non-numeric characters from a list of strings using list comprehension.\n"
   ]
  },
  {
   "cell_type": "code",
   "execution_count": 82,
   "id": "1f398e64-8924-40d4-bddd-7dd3b61d3b1e",
   "metadata": {},
   "outputs": [],
   "source": [
    "s= \"hello123 world 233\"\n",
    "l4 = \"\".join([x for x in s if x not in ['1','2','3','4','5','6','7','8','9','0']])"
   ]
  },
  {
   "cell_type": "code",
   "execution_count": 83,
   "id": "7fcf3940-621b-4813-9d37-e1631355d2ca",
   "metadata": {},
   "outputs": [
    {
     "data": {
      "text/plain": [
       "'hello world '"
      ]
     },
     "execution_count": 83,
     "metadata": {},
     "output_type": "execute_result"
    }
   ],
   "source": [
    "l4"
   ]
  },
  {
   "cell_type": "markdown",
   "id": "18df0553-ec09-4eb2-ba01-ade3369b1013",
   "metadata": {},
   "source": [
    "31. Write a program to generate a list of prime numbers using the Sieve of Eratosthenes algorithm and list comprehension.\n"
   ]
  },
  {
   "cell_type": "code",
   "execution_count": null,
   "id": "6cb21577-9150-4d68-811a-eb474d71f5c6",
   "metadata": {},
   "outputs": [],
   "source": [
    "def prime(n):\n",
    "    for x in range(1,n+1):\n",
    "        "
   ]
  },
  {
   "cell_type": "markdown",
   "id": "8dd90df3-87fc-40bc-9448-24c96aa96fc4",
   "metadata": {},
   "source": [
    "32. Create a program that generates a list of all Pythagorean triplets up to a specified limit using list comprehension.\n"
   ]
  },
  {
   "cell_type": "code",
   "execution_count": 6,
   "id": "d265e755-30a5-4e79-bc45-cc0af428d12e",
   "metadata": {},
   "outputs": [],
   "source": [
    "def pytriplets(n):\n",
    "    l1=[]\n",
    "    for x in range(1,n+1):\n",
    "        for y in range(1,n+1):\n",
    "            k = x**2 + y**2\n",
    "            if int(k**0.5)==k**0.5 and x>y:\n",
    "                l1.append([x,y,int(k**0.5)])\n",
    "    print(l1)"
   ]
  },
  {
   "cell_type": "code",
   "execution_count": 7,
   "id": "97eca8b8-b7da-4f4c-8346-59125a122eb8",
   "metadata": {},
   "outputs": [
    {
     "name": "stdout",
     "output_type": "stream",
     "text": [
      "[[4, 3, 5], [8, 6, 10], [12, 5, 13], [12, 9, 15], [15, 8, 17], [16, 12, 20], [20, 15, 25], [21, 20, 29], [24, 7, 25], [24, 10, 26], [24, 18, 30], [28, 21, 35], [30, 16, 34]]\n"
     ]
    }
   ],
   "source": [
    "pytriplets(30)"
   ]
  },
  {
   "cell_type": "code",
   "execution_count": 2,
   "id": "6630f615-f6dc-4bbe-b52f-6cc7025fdc52",
   "metadata": {},
   "outputs": [],
   "source": [
    "def pythatriplets(n):\n",
    "    x= [(a, b, c) for a in range(1, n + 1) for b in range(a, n + 1) for c in range(b, n + 1) if a**2 + b**2 == c**2]\n",
    "    return x"
   ]
  },
  {
   "cell_type": "code",
   "execution_count": 3,
   "id": "59e86448-7cab-4a55-8100-b3eccacae286",
   "metadata": {},
   "outputs": [
    {
     "data": {
      "text/plain": [
       "[(3, 4, 5), (5, 12, 13), (6, 8, 10), (8, 15, 17), (9, 12, 15), (12, 16, 20)]"
      ]
     },
     "execution_count": 3,
     "metadata": {},
     "output_type": "execute_result"
    }
   ],
   "source": [
    "pythatriplets(21)"
   ]
  },
  {
   "cell_type": "markdown",
   "id": "2a8028c6-b05e-4124-bb9a-96e35712b65c",
   "metadata": {},
   "source": [
    "33. Develop a program that generates a list of all possible combinations of two lists using list comprehension.\n"
   ]
  },
  {
   "cell_type": "code",
   "execution_count": 4,
   "id": "d438eb8d-b2a6-442c-996b-8fc097c1bede",
   "metadata": {},
   "outputs": [
    {
     "name": "stdout",
     "output_type": "stream",
     "text": [
      "[[1, 'hello'], [1, 'world'], [1, 'sud'], [1, 'smiti'], [2, 'hello'], [2, 'world'], [2, 'sud'], [2, 'smiti'], [3, 'hello'], [3, 'world'], [3, 'sud'], [3, 'smiti'], [4, 'hello'], [4, 'world'], [4, 'sud'], [4, 'smiti']]\n"
     ]
    }
   ],
   "source": [
    "l1 = [1,2,3,4]\n",
    "l2 = ['hello','world','sud','smiti']\n",
    "l3 = [[x,y] for x in l1 for y in l2]\n",
    "print(l3)"
   ]
  },
  {
   "cell_type": "markdown",
   "id": "3643a63a-872f-4aeb-9aaa-b9033cbc07f1",
   "metadata": {},
   "source": [
    "34. Write a program that calculates the mean, median, and mode of a list of numbers using list comprehension.\n"
   ]
  },
  {
   "cell_type": "code",
   "execution_count": 14,
   "id": "cb1100ec-6594-4954-8d42-e05dbcf9e1bc",
   "metadata": {},
   "outputs": [],
   "source": [
    "def amfun(l):\n",
    "    mean = sum(l)/len(l)\n",
    "    mid = len(l)//2\n",
    "    median = (l[mid]+l[~mid])/2\n",
    "    mode = max(set(l), key = l.count)\n",
    "    print(f' mean = {format(mean,\".2f\")}, median = {median} and mode = {mode}')"
   ]
  },
  {
   "cell_type": "code",
   "execution_count": 15,
   "id": "4d7f051b-4882-449d-8806-a6f630c3b618",
   "metadata": {},
   "outputs": [
    {
     "name": "stdout",
     "output_type": "stream",
     "text": [
      " mean = 3.67, median = 4.0 and mode = 5\n"
     ]
    }
   ],
   "source": [
    "amfun([1,2,2,3,3,3,4,4,4,4,5,5,5,5,5])"
   ]
  },
  {
   "cell_type": "markdown",
   "id": "da22b0eb-a195-44e0-990a-9048307c1748",
   "metadata": {},
   "source": [
    "35. Create a program that generates Pascal's triangle up to a specified number of rows using list comprehension."
   ]
  },
  {
   "cell_type": "code",
   "execution_count": 30,
   "id": "2f58d5be-6a11-4136-bd13-a287979ef69e",
   "metadata": {},
   "outputs": [
    {
     "name": "stdout",
     "output_type": "stream",
     "text": [
      "1  \n",
      "11  \n",
      "121  \n",
      "1331  \n",
      "14641  \n"
     ]
    }
   ],
   "source": [
    "n=4\n",
    "for x in range(0,n+1):\n",
    "    print(\"  \".join(str(11**x).split(\" \")), end = '  ')\n",
    "    print()"
   ]
  },
  {
   "cell_type": "markdown",
   "id": "49c3ab11-ba93-472b-8746-ccd57b06acbc",
   "metadata": {},
   "source": [
    "36. Develop a program that calculates the sum of the digits of a factorial of numbers from 1 to 5 using list comprehension.\n"
   ]
  },
  {
   "cell_type": "code",
   "execution_count": 36,
   "id": "08980cdb-fd17-4485-bcf7-20be34e45f32",
   "metadata": {},
   "outputs": [],
   "source": [
    "def fact(n):\n",
    "    if n==1:\n",
    "        return 1\n",
    "    else:\n",
    "        return n*fact(n-1)\n",
    "    "
   ]
  },
  {
   "cell_type": "code",
   "execution_count": 47,
   "id": "4a2dbdf7-4a46-4031-8d2e-d4bf525683fd",
   "metadata": {},
   "outputs": [],
   "source": [
    "def sumofdig(n):\n",
    "    if n%10==n:\n",
    "        return n\n",
    "    else:\n",
    "        return n%10 + sumofdig(n//10)"
   ]
  },
  {
   "cell_type": "code",
   "execution_count": 49,
   "id": "06aa149a-7b74-4618-a2d9-0adf1753cb11",
   "metadata": {},
   "outputs": [],
   "source": [
    "l = [sumofdig(fact(x)) for x in range(1,6)]"
   ]
  },
  {
   "cell_type": "code",
   "execution_count": 50,
   "id": "019ddc68-94ef-41b3-bdbc-7d21abab5be2",
   "metadata": {},
   "outputs": [
    {
     "data": {
      "text/plain": [
       "[1, 2, 6, 6, 3]"
      ]
     },
     "execution_count": 50,
     "metadata": {},
     "output_type": "execute_result"
    }
   ],
   "source": [
    "l"
   ]
  },
  {
   "cell_type": "markdown",
   "id": "268e0d6a-42f1-4622-9e8a-38954a2bebab",
   "metadata": {},
   "source": [
    "37. Write a program that finds the longest word in a sentence using list comprehension.\n"
   ]
  },
  {
   "cell_type": "code",
   "execution_count": 69,
   "id": "0989a6ea-2600-4490-951b-07032e8028cc",
   "metadata": {},
   "outputs": [],
   "source": [
    "s= 'a quick brown fox'\n"
   ]
  },
  {
   "cell_type": "code",
   "execution_count": 77,
   "id": "4a312e21-02fd-4ee3-85cd-b8e2326355c7",
   "metadata": {},
   "outputs": [],
   "source": [
    "def maxstringfun(s):\n",
    "    k = ''\n",
    "    for x in s.split(' '):\n",
    "        if len(x)>len(k):\n",
    "            k = x\n",
    "        elif len(x)==len(k):\n",
    "            k = k + \", \"+x\n",
    "        \n",
    "    print(k)\n",
    "    \n",
    "        "
   ]
  },
  {
   "cell_type": "code",
   "execution_count": 78,
   "id": "b1edbef3-b4e3-44ef-9a4c-8aa5f6710d7f",
   "metadata": {},
   "outputs": [
    {
     "name": "stdout",
     "output_type": "stream",
     "text": [
      "quick, brown\n"
     ]
    }
   ],
   "source": [
    "l = [maxstringfun(s)]"
   ]
  },
  {
   "cell_type": "markdown",
   "id": "2bc7ae5c-41bc-4014-b965-cff7c3a0548d",
   "metadata": {},
   "source": [
    "38. Create a program that filters a list of strings to include only those with more than three vowels using list comprehension."
   ]
  },
  {
   "cell_type": "code",
   "execution_count": 87,
   "id": "ba136bdb-fe62-409f-bd98-b695acf1624c",
   "metadata": {},
   "outputs": [],
   "source": [
    "def countvowels(l):\n",
    "    l2=[]\n",
    "    \n",
    "    l1 = ['a','e','i','o','u']\n",
    "    for x in l:\n",
    "        count = 0\n",
    "        for y in x:\n",
    "            if y.lower() in l1:\n",
    "                count+=1\n",
    "        if count>=3:\n",
    "            l2.append(x)\n",
    "    return l2"
   ]
  },
  {
   "cell_type": "code",
   "execution_count": 89,
   "id": "e9f5f37e-8ad4-488b-a39b-fb778ae04721",
   "metadata": {},
   "outputs": [
    {
     "data": {
      "text/plain": [
       "['aaabbb']"
      ]
     },
     "execution_count": 89,
     "metadata": {},
     "output_type": "execute_result"
    }
   ],
   "source": [
    "countvowels(['hello', 'world' ,'aaabbb'])"
   ]
  },
  {
   "cell_type": "markdown",
   "id": "f91f148d-65b9-4a6d-be0e-3d0c3de9eeac",
   "metadata": {},
   "source": [
    "39. Develop a program that calculates the sum of the digits of numbers from 1 to 1000 using list comprehension.\n"
   ]
  },
  {
   "cell_type": "code",
   "execution_count": 104,
   "id": "a4a8e943-9c8a-4f93-ab1e-72d74fd3b0c3",
   "metadata": {},
   "outputs": [],
   "source": [
    "def sumofdigits(n):\n",
    "    if n%10==n:\n",
    "        return n\n",
    "    else:\n",
    "        return n%10 + sumofdigits(n//10)"
   ]
  },
  {
   "cell_type": "code",
   "execution_count": 109,
   "id": "00ead13f-5df7-4f28-86db-abf549a5a784",
   "metadata": {},
   "outputs": [
    {
     "data": {
      "text/plain": [
       "[1, 2, 3, 4, 5, 6, 7, 8, 9, 1, 2, 3, 4, 5, 6, 7, 8, 9, 10]"
      ]
     },
     "execution_count": 109,
     "metadata": {},
     "output_type": "execute_result"
    }
   ],
   "source": [
    "list(map(sumofdigits, list(range(1,20))))"
   ]
  },
  {
   "cell_type": "markdown",
   "id": "cbb0b15b-50b6-4d16-8bbf-b47c281229ce",
   "metadata": {},
   "source": [
    "40. Write a program that generates a list of prime palindromic numbers using list comprehension."
   ]
  },
  {
   "cell_type": "code",
   "execution_count": 146,
   "id": "61cdb051-085f-4680-a943-aa48e661e3e4",
   "metadata": {},
   "outputs": [],
   "source": [
    "def prime(n):\n",
    "    count=0\n",
    "    for x in range(1,n+1):\n",
    "        if n%x==0:\n",
    "            count+=1\n",
    "    if count==2:\n",
    "        if str(n)[::-1]==str(n):\n",
    "            print(n)\n"
   ]
  },
  {
   "cell_type": "code",
   "execution_count": 148,
   "id": "5eefca6e-4e6e-497f-b121-962e5225e116",
   "metadata": {},
   "outputs": [
    {
     "name": "stdout",
     "output_type": "stream",
     "text": [
      "2\n",
      "3\n",
      "5\n",
      "7\n",
      "11\n",
      "101\n",
      "131\n",
      "151\n",
      "181\n",
      "191\n"
     ]
    }
   ],
   "source": [
    "x = [prime(x) for x in range(1,200)]"
   ]
  },
  {
   "cell_type": "code",
   "execution_count": null,
   "id": "4665eb8e-b00d-4c7b-a012-64debff852a4",
   "metadata": {},
   "outputs": [],
   "source": []
  }
 ],
 "metadata": {
  "kernelspec": {
   "display_name": "Python 3 (ipykernel)",
   "language": "python",
   "name": "python3"
  },
  "language_info": {
   "codemirror_mode": {
    "name": "ipython",
    "version": 3
   },
   "file_extension": ".py",
   "mimetype": "text/x-python",
   "name": "python",
   "nbconvert_exporter": "python",
   "pygments_lexer": "ipython3",
   "version": "3.10.8"
  }
 },
 "nbformat": 4,
 "nbformat_minor": 5
}
